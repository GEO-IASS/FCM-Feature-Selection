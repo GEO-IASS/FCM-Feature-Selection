{
 "cells": [
  {
   "cell_type": "code",
   "execution_count": 1,
   "metadata": {
    "collapsed": true
   },
   "outputs": [],
   "source": [
    "import numpy as np\n",
    "import matplotlib.pyplot as plt\n",
    "import skfuzzy as fuzz\n",
    "import pandas as pd\n",
    "from sklearn.feature_extraction.text import TfidfVectorizer, CountVectorizer\n",
    "from sklearn.naive_bayes import MultinomialNB\n",
    "from sklearn import metrics\n",
    "from sklearn.model_selection import train_test_split\n",
    "from skcmeans.algorithms import Probabilistic\n",
    "from sklearn.cluster import KMeans\n",
    "from tqdm import tqdm"
   ]
  },
  {
   "cell_type": "code",
   "execution_count": 2,
   "metadata": {
    "collapsed": false
   },
   "outputs": [],
   "source": [
    "data = pd.read_table(\"20NG/20ng-train-stemmed.txt\") \n",
    "data.columns=[\"Y\",\"X\"]"
   ]
  },
  {
   "cell_type": "markdown",
   "metadata": {},
   "source": [
    "# Returns a Dataframe with five random classes"
   ]
  },
  {
   "cell_type": "code",
   "execution_count": 3,
   "metadata": {
    "collapsed": false
   },
   "outputs": [],
   "source": [
    "def ran5class(data):\n",
    "    classes = ['alt.atheism',\n",
    "                 'comp.graphics',\n",
    "                 'comp.os.ms-windows.misc',\n",
    "                 'comp.sys.ibm.pc.hardware',\n",
    "                 'comp.sys.mac.hardware',\n",
    "                 'comp.windows.x',\n",
    "                 'misc.forsale',\n",
    "                 'rec.autos',\n",
    "                 'rec.motorcycles',\n",
    "                 'rec.sport.baseball',\n",
    "                 'rec.sport.hockey',\n",
    "                 'sci.crypt',\n",
    "                 'sci.electronics',\n",
    "                 'sci.med',\n",
    "                 'sci.space',\n",
    "                 'soc.religion.christian',\n",
    "                 'talk.politics.guns',\n",
    "                 'talk.politics.mideast',\n",
    "                 'talk.politics.misc',\n",
    "                 'talk.religion.misc']\n",
    "    #np.random.shuffle(classes)\n",
    "\n",
    "    group5 = data.loc[data['Y'] == classes[1]]\n",
    "    group5 = group5.append(data.loc[data['Y'] == classes[7]], ignore_index=True)\n",
    "    group5 = group5.append(data.loc[data['Y'] == classes[12]], ignore_index=True)\n",
    "    group5 = group5.append(data.loc[data['Y'] == classes[16]], ignore_index=True)\n",
    "    return group5.append(data.loc[data['Y'] == classes[0]], ignore_index=True)"
   ]
  },
  {
   "cell_type": "code",
   "execution_count": 4,
   "metadata": {
    "collapsed": false
   },
   "outputs": [],
   "source": [
    "group5 = ran5class(data)\n",
    "\n",
    "Y = group5[\"Y\"]\n",
    "X = group5[\"X\"]\n",
    "\n",
    "vectorizer = TfidfVectorizer()\n",
    "# counter = CountVectorizer()\n",
    "# Xc = counter.fit_transform(X).toarray()\n",
    "X = vectorizer.fit_transform(X).toarray()\n",
    "\n",
    "x_train = X\n",
    "y_train = Y"
   ]
  },
  {
   "cell_type": "code",
   "execution_count": 5,
   "metadata": {
    "collapsed": false
   },
   "outputs": [
    {
     "name": "stdout",
     "output_type": "stream",
     "text": [
      "(2793, 21205)\n",
      "(2793,)\n"
     ]
    }
   ],
   "source": [
    "print(x_train.shape)\n",
    "print(y_train.shape)"
   ]
  },
  {
   "cell_type": "markdown",
   "metadata": {},
   "source": [
    "# Clustering"
   ]
  },
  {
   "cell_type": "code",
   "execution_count": 6,
   "metadata": {
    "collapsed": false
   },
   "outputs": [
    {
     "data": {
      "text/plain": [
       "0.23629739947985082"
      ]
     },
     "execution_count": 6,
     "metadata": {},
     "output_type": "execute_result"
    }
   ],
   "source": [
    "cntr, u, u0, d, jm, p, fpc = fuzz.cluster.cmeans(x_train.T, 5, 15, error=0.00001, maxiter=10000, init=None)\n",
    "metrics.adjusted_rand_score(y_train,np.argmax(u,axis=0))"
   ]
  },
  {
   "cell_type": "code",
   "execution_count": 7,
   "metadata": {
    "collapsed": false
   },
   "outputs": [],
   "source": [
    "# kmeans = KMeans(n_clusters=3,n_jobs=-1).fit(x_train)\n",
    "# print('Score:',metrics.adjusted_rand_score(y_train,kmeans.predict(x_train)))"
   ]
  },
  {
   "cell_type": "code",
   "execution_count": 10,
   "metadata": {
    "collapsed": true
   },
   "outputs": [],
   "source": [
    "docinc = [ [] for x in range(5)]\n",
    "for k in range(x_train.shape[0]):\n",
    "    docinc[np.argmax(u[:,k])].append(k)"
   ]
  },
  {
   "cell_type": "code",
   "execution_count": null,
   "metadata": {
    "collapsed": false
   },
   "outputs": [],
   "source": [
    "clu = 0\n",
    "CF = np.zeros((x_train.shape[1],x_train.shape[1]))\n",
    "for i in tqdm(range(x_train.shape[1])):\n",
    "    for j in range(x_train.shape[1]):\n",
    "        summ=0\n",
    "        for k in docinc[clu]:\n",
    "            summ+=X[k][i]*X[k][j]\n",
    "        CF[i,j]=summ"
   ]
  },
  {
   "cell_type": "code",
   "execution_count": null,
   "metadata": {
    "collapsed": true
   },
   "outputs": [],
   "source": []
  }
 ],
 "metadata": {
  "kernelspec": {
   "display_name": "Python 3",
   "language": "python",
   "name": "python3"
  },
  "language_info": {
   "codemirror_mode": {
    "name": "ipython",
    "version": 3
   },
   "file_extension": ".py",
   "mimetype": "text/x-python",
   "name": "python",
   "nbconvert_exporter": "python",
   "pygments_lexer": "ipython3",
   "version": "3.5.2"
  }
 },
 "nbformat": 4,
 "nbformat_minor": 2
}
