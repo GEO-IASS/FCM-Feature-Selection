{
 "cells": [
  {
   "cell_type": "code",
   "execution_count": 1,
   "metadata": {
    "collapsed": true
   },
   "outputs": [],
   "source": [
    "import numpy as np\n",
    "import matplotlib.pyplot as plt\n",
    "from sklearn.metrics.pairwise import cosine_similarity\n",
    "from sklearn.feature_extraction.text import TfidfVectorizer\n",
    "from sklearn import metrics\n",
    "import pandas as pd\n",
    "import warnings\n",
    "warnings.filterwarnings('ignore')"
   ]
  },
  {
   "cell_type": "code",
   "execution_count": 2,
   "metadata": {
    "collapsed": true
   },
   "outputs": [],
   "source": [
    "def selecttop(CF, k):\n",
    "    \"\"\"\n",
    "    Finds cosine similarity between SC and Wi and returns index of top features\"\"\"\n",
    "    NCF = np.zeros((CF.shape[1],CF.shape[1]))\n",
    "    for i in range(CF.shape[1]):\n",
    "        for j in range(CF.shape[1]):\n",
    "            if (CF[i,j]+CF[j,j]-CF[i,j]) !=0:\n",
    "                NCF[i,j]=CF[i,j]/(CF[i,j]+CF[j,j]-CF[i,j])\n",
    "            else:\n",
    "                NCF[i,j]=0\n",
    "            \n",
    "    SC = np.zeros(CF.shape[1])\n",
    "    for i in range(CF.shape[1]):\n",
    "        SC[i] = np.sum(NCF[i,:])\n",
    "    \n",
    "    print(np.isnan(SC).any())\n",
    "    print(np.isnan(CF).any())\n",
    "    cosim = cosine_similarity(SC,CF)\n",
    "    return (-cosim).argsort()[0][:int(k*CF.shape[1])]"
   ]
  },
  {
   "cell_type": "code",
   "execution_count": 3,
   "metadata": {
    "collapsed": false
   },
   "outputs": [
    {
     "name": "stdout",
     "output_type": "stream",
     "text": [
      "(7288, 7288)\n"
     ]
    }
   ],
   "source": [
    "#Loading CF matrix for each cluster\n",
    "CF0 = np.load(\"webKB/cf_0_webKB.npy\")\n",
    "CF1 = np.load(\"webKB/cf_1_webKB.npy\")\n",
    "CF2 = np.load(\"webKB/cf_2_webKB.npy\")\n",
    "CF3 = np.load(\"webKB/cf_3_webKB.npy\")\n",
    "print(CF0.shape)"
   ]
  },
  {
   "cell_type": "code",
   "execution_count": 4,
   "metadata": {
    "collapsed": false
   },
   "outputs": [
    {
     "name": "stdout",
     "output_type": "stream",
     "text": [
      "False\n",
      "False\n",
      "364\n"
     ]
    }
   ],
   "source": [
    "#Retrieving indexes of of top features from first cluster\n",
    "l=[]\n",
    "percent_features = 0.05\n",
    "l.extend(selecttop(CF0,percent_features))\n",
    "print(len(l))"
   ]
  },
  {
   "cell_type": "code",
   "execution_count": 5,
   "metadata": {
    "collapsed": false
   },
   "outputs": [
    {
     "name": "stdout",
     "output_type": "stream",
     "text": [
      "False\n",
      "False\n",
      "728\n"
     ]
    }
   ],
   "source": [
    "#Retrieving indexes of of top features from second cluster\n",
    "l.extend(selecttop(CF1,percent_features))\n",
    "print(len(l))"
   ]
  },
  {
   "cell_type": "code",
   "execution_count": 6,
   "metadata": {
    "collapsed": false
   },
   "outputs": [
    {
     "name": "stdout",
     "output_type": "stream",
     "text": [
      "False\n",
      "False\n",
      "1092\n"
     ]
    }
   ],
   "source": [
    "#Retrieving indexes of of top features from third cluster\n",
    "l.extend(selecttop(CF2,percent_features))\n",
    "print(len(l))"
   ]
  },
  {
   "cell_type": "code",
   "execution_count": 7,
   "metadata": {
    "collapsed": false
   },
   "outputs": [
    {
     "name": "stdout",
     "output_type": "stream",
     "text": [
      "False\n",
      "False\n",
      "1456\n"
     ]
    }
   ],
   "source": [
    "#Retrieving indexes of of top features from fourth cluster\n",
    "l.extend(selecttop(CF3,percent_features))\n",
    "print(len(l))"
   ]
  },
  {
   "cell_type": "code",
   "execution_count": 8,
   "metadata": {
    "collapsed": false
   },
   "outputs": [
    {
     "name": "stdout",
     "output_type": "stream",
     "text": [
      "978\n"
     ]
    }
   ],
   "source": [
    "#removing duplicates\n",
    "l = list(set(l))\n",
    "print(len(l))"
   ]
  },
  {
   "cell_type": "code",
   "execution_count": 9,
   "metadata": {
    "collapsed": false
   },
   "outputs": [],
   "source": [
    "df = pd.read_table(\"data/WebKB/webkb-test-stemmed.txt\",header=None)\n",
    "df.columns=[\"Y\",\"X\"]\n",
    "Y = df[\"Y\"]\n",
    "X = df[\"X\"]"
   ]
  },
  {
   "cell_type": "code",
   "execution_count": 10,
   "metadata": {
    "collapsed": false
   },
   "outputs": [],
   "source": [
    "# Loading the data\n",
    "vectorizer = TfidfVectorizer()\n",
    "X = vectorizer.fit_transform(X.values.astype('U')).toarray()"
   ]
  },
  {
   "cell_type": "code",
   "execution_count": 11,
   "metadata": {
    "collapsed": false
   },
   "outputs": [
    {
     "ename": "IndexError",
     "evalue": "index 6149 is out of bounds for axis 1 with size 4799",
     "output_type": "error",
     "traceback": [
      "\u001b[0;31m---------------------------------------------------------------------------\u001b[0m",
      "\u001b[0;31mIndexError\u001b[0m                                Traceback (most recent call last)",
      "\u001b[0;32m<ipython-input-11-f7215d7fff20>\u001b[0m in \u001b[0;36m<module>\u001b[0;34m()\u001b[0m\n\u001b[0;32m----> 1\u001b[0;31m \u001b[0mnp\u001b[0m\u001b[0;34m.\u001b[0m\u001b[0msave\u001b[0m\u001b[0;34m(\u001b[0m\u001b[0;34m\"webkb_selected_rfstest\"\u001b[0m\u001b[0;34m,\u001b[0m\u001b[0mX\u001b[0m\u001b[0;34m[\u001b[0m\u001b[0;34m:\u001b[0m\u001b[0;34m,\u001b[0m\u001b[0ml\u001b[0m\u001b[0;34m]\u001b[0m\u001b[0;34m)\u001b[0m\u001b[0;34m\u001b[0m\u001b[0m\n\u001b[0m",
      "\u001b[0;31mIndexError\u001b[0m: index 6149 is out of bounds for axis 1 with size 4799"
     ]
    }
   ],
   "source": [
    "# Selecting top features based on the indexes and seving them\n",
    "np.save(\"webkb_selected_rfstest\",X[:,l])"
   ]
  },
  {
   "cell_type": "code",
   "execution_count": null,
   "metadata": {
    "collapsed": true
   },
   "outputs": [],
   "source": []
  }
 ],
 "metadata": {
  "kernelspec": {
   "display_name": "Python 3",
   "language": "python",
   "name": "python3"
  },
  "language_info": {
   "codemirror_mode": {
    "name": "ipython",
    "version": 3
   },
   "file_extension": ".py",
   "mimetype": "text/x-python",
   "name": "python",
   "nbconvert_exporter": "python",
   "pygments_lexer": "ipython3",
   "version": "3.5.2"
  }
 },
 "nbformat": 4,
 "nbformat_minor": 2
}
