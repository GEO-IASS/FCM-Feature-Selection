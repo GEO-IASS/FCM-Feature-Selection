{
 "cells": [
  {
   "cell_type": "code",
   "execution_count": 14,
   "metadata": {
    "collapsed": false
   },
   "outputs": [],
   "source": [
    "from sklearn.datasets import load_iris\n",
    "import skfuzzy as fuzz\n",
    "import numpy as np\n",
    "import matplotlib.pyplot as plt\n",
    "from sklearn.metrics.pairwise import cosine_similarity\n",
    "from sklearn import metrics\n",
    "import warnings\n",
    "warnings.filterwarnings('ignore')\n",
    "\n",
    "data = load_iris()\n",
    "X = data.data\n",
    "# Adding random features to X\n",
    "X = np.hstack((X,np.random.rand(len(X),1)))\n",
    "Y = data.target"
   ]
  },
  {
   "cell_type": "code",
   "execution_count": 15,
   "metadata": {
    "collapsed": false
   },
   "outputs": [
    {
     "data": {
      "text/plain": [
       "0.78389153729357053"
      ]
     },
     "execution_count": 15,
     "metadata": {},
     "output_type": "execute_result"
    }
   ],
   "source": [
    "cntr, u, u0, d, jm, p, fpc = fuzz.cluster.cmeans(X.T, 3, 60, error=0.0001, maxiter=100000, init=None)\n",
    "metrics.adjusted_rand_score(Y,np.argmax(u,axis=0))"
   ]
  },
  {
   "cell_type": "markdown",
   "metadata": {},
   "source": [
    "# Creating the CF Matrix"
   ]
  },
  {
   "cell_type": "code",
   "execution_count": 16,
   "metadata": {
    "collapsed": false
   },
   "outputs": [],
   "source": [
    "clu = 1\n",
    "CF = np.zeros((X.shape[1],X.shape[1]))\n",
    "for i in range(X.shape[1]):\n",
    "    for j in range(X.shape[1]):\n",
    "        summ=0\n",
    "        for d in range(X.shape[0]):\n",
    "            if np.argmax(u[:,d]) == clu:\n",
    "                summ+=X[d][i]*X[d][j]\n",
    "        CF[i,j]=summ"
   ]
  },
  {
   "cell_type": "markdown",
   "metadata": {},
   "source": [
    "# Normalization"
   ]
  },
  {
   "cell_type": "code",
   "execution_count": 17,
   "metadata": {
    "collapsed": false
   },
   "outputs": [],
   "source": [
    "NCF = np.zeros((X.shape[1],X.shape[1]))\n",
    "for i in range(X.shape[1]):\n",
    "    for j in range(X.shape[1]):\n",
    "        NCF[i,j]=CF[i,j]/(CF[i,j]+CF[j,j]-CF[i,j])"
   ]
  },
  {
   "cell_type": "markdown",
   "metadata": {},
   "source": [
    "# Centroid"
   ]
  },
  {
   "cell_type": "code",
   "execution_count": 18,
   "metadata": {
    "collapsed": false
   },
   "outputs": [],
   "source": [
    "SC = np.zeros(X.shape[1])\n",
    "for i in range(X.shape[1]):\n",
    "    SC[i] = np.sum(NCF[i,:])"
   ]
  },
  {
   "cell_type": "markdown",
   "metadata": {},
   "source": [
    "# Cosine Similarity to select top features"
   ]
  },
  {
   "cell_type": "code",
   "execution_count": 19,
   "metadata": {
    "collapsed": false,
    "scrolled": true
   },
   "outputs": [
    {
     "name": "stdout",
     "output_type": "stream",
     "text": [
      "[[ 0.99994474  0.99995519  0.99995582  0.99996007  0.9999595 ]]\n",
      "Top features are:  [3 4 2 1]\n"
     ]
    }
   ],
   "source": [
    "cosim = cosine_similarity(SC,CF)\n",
    "print(cosim)\n",
    "top = 4\n",
    "print(\"Top features are: \",(-cosim).argsort()[0][:top])"
   ]
  },
  {
   "cell_type": "code",
   "execution_count": null,
   "metadata": {
    "collapsed": true
   },
   "outputs": [],
   "source": []
  }
 ],
 "metadata": {
  "kernelspec": {
   "display_name": "Python 3",
   "language": "python",
   "name": "python3"
  },
  "language_info": {
   "codemirror_mode": {
    "name": "ipython",
    "version": 3
   },
   "file_extension": ".py",
   "mimetype": "text/x-python",
   "name": "python",
   "nbconvert_exporter": "python",
   "pygments_lexer": "ipython3",
   "version": "3.5.2"
  }
 },
 "nbformat": 4,
 "nbformat_minor": 0
}
