{
 "cells": [
  {
   "cell_type": "code",
   "execution_count": 1,
   "metadata": {
    "collapsed": false
   },
   "outputs": [],
   "source": [
    "from sklearn.datasets import load_iris\n",
    "import skfuzzy as fuzz\n",
    "import numpy as np\n",
    "import matplotlib.pyplot as plt\n",
    "from sklearn.metrics.pairwise import cosine_similarity\n",
    "from sklearn import metrics\n",
    "import warnings\n",
    "warnings.filterwarnings('ignore')\n",
    "\n",
    "data = load_iris()\n",
    "X = data.data\n",
    "# Adding random features to X\n",
    "X = np.hstack((X,30*np.ones((len(X),1))))\n",
    "Y = data.target"
   ]
  },
  {
   "cell_type": "code",
   "execution_count": 2,
   "metadata": {
    "collapsed": false
   },
   "outputs": [
    {
     "data": {
      "text/plain": [
       "0.78592653061224493"
      ]
     },
     "execution_count": 2,
     "metadata": {},
     "output_type": "execute_result"
    }
   ],
   "source": [
    "cntr, u, u0, d, jm, p, fpc = fuzz.cluster.cmeans(X.T, 3, 60, error=0.0001, maxiter=100000, init=None)\n",
    "metrics.adjusted_rand_score(Y,np.argmax(u,axis=0))"
   ]
  },
  {
   "cell_type": "markdown",
   "metadata": {},
   "source": [
    "# Creating the CF Matrix"
   ]
  },
  {
   "cell_type": "code",
   "execution_count": 3,
   "metadata": {
    "collapsed": false
   },
   "outputs": [],
   "source": [
    "clu = 1\n",
    "CF = np.zeros((X.shape[1],X.shape[1]))\n",
    "for i in range(X.shape[1]):\n",
    "    for j in range(X.shape[1]):\n",
    "        summ=0\n",
    "        for d in range(X.shape[0]):\n",
    "            if np.argmax(u[:,d]) == clu:\n",
    "                summ+=X[d][i]*X[d][j]\n",
    "        CF[i,j]=summ"
   ]
  },
  {
   "cell_type": "markdown",
   "metadata": {},
   "source": [
    "# Normalization"
   ]
  },
  {
   "cell_type": "code",
   "execution_count": 4,
   "metadata": {
    "collapsed": false
   },
   "outputs": [],
   "source": [
    "NCF = np.zeros((X.shape[1],X.shape[1]))\n",
    "for i in range(X.shape[1]):\n",
    "    for j in range(X.shape[1]):\n",
    "        NCF[i,j]=CF[i,j]/(CF[i,j]+CF[j,j]-CF[i,j])"
   ]
  },
  {
   "cell_type": "markdown",
   "metadata": {},
   "source": [
    "# Centroid"
   ]
  },
  {
   "cell_type": "code",
   "execution_count": 5,
   "metadata": {
    "collapsed": false
   },
   "outputs": [],
   "source": [
    "SC = np.zeros(X.shape[1])\n",
    "for i in range(X.shape[1]):\n",
    "    SC[i] = np.sum(NCF[i,:])"
   ]
  },
  {
   "cell_type": "markdown",
   "metadata": {},
   "source": [
    "\n",
    "# Cosine Similarity to select top features"
   ]
  },
  {
   "cell_type": "code",
   "execution_count": 6,
   "metadata": {
    "collapsed": false,
    "scrolled": true
   },
   "outputs": [
    {
     "name": "stdout",
     "output_type": "stream",
     "text": [
      "[[ 0.99999928  0.99999946  0.99999991  0.99999964  0.999998  ]]\n",
      "Top features are:  [2 3 1 0]\n"
     ]
    }
   ],
   "source": [
    "cosim = cosine_similarity(SC,CF)\n",
    "print(cosim)\n",
    "top = 4\n",
    "print(\"Top features are: \",(-cosim).argsort()[0][:top])"
   ]
  },
  {
   "cell_type": "code",
   "execution_count": null,
   "metadata": {
    "collapsed": true
   },
   "outputs": [],
   "source": [
    "def selecttop(CF, k, X = None):\n",
    "    NCF = np.zeros((CF.shape[1],CF.shape[1]))\n",
    "    for i in range(CF.shape[1]):\n",
    "        for j in range(CF.shape[1]):\n",
    "            NCF[i,j]=CF[i,j]/(CF[i,j]+CF[j,j]-CF[i,j])\n",
    "            \n",
    "    SC = np.zeros(CF.shape[1])\n",
    "    for i in range(CF.shape[1]):\n",
    "        SC[i] = np.sum(NCF[i,:])\n",
    "        \n",
    "    cosim = cosine_similarity(SC,CF)\n",
    "    if X == None:\n",
    "        return (-cosim).argsort()[0][:int(k*CF.shape[1])]\n",
    "        \n",
    "    # Not in the same order\n",
    "    return X[:,selecttop(CF,.8)]"
   ]
  },
  {
   "cell_type": "code",
   "execution_count": 16,
   "metadata": {
    "collapsed": false
   },
   "outputs": [
    {
     "data": {
      "text/plain": [
       "array([2, 3, 1, 0])"
      ]
     },
     "execution_count": 16,
     "metadata": {},
     "output_type": "execute_result"
    }
   ],
   "source": [
    "selecttop(CF,.8)"
   ]
  },
  {
   "cell_type": "code",
   "execution_count": 17,
   "metadata": {
    "collapsed": false
   },
   "outputs": [
    {
     "name": "stdout",
     "output_type": "stream",
     "text": [
      "[[ 1.4  0.2  3.5  5.1]\n",
      " [ 1.4  0.2  3.   4.9]\n",
      " [ 1.3  0.2  3.2  4.7]\n",
      " [ 1.5  0.2  3.1  4.6]\n",
      " [ 1.4  0.2  3.6  5. ]\n",
      " [ 1.7  0.4  3.9  5.4]\n",
      " [ 1.4  0.3  3.4  4.6]\n",
      " [ 1.5  0.2  3.4  5. ]\n",
      " [ 1.4  0.2  2.9  4.4]\n",
      " [ 1.5  0.1  3.1  4.9]\n",
      " [ 1.5  0.2  3.7  5.4]\n",
      " [ 1.6  0.2  3.4  4.8]\n",
      " [ 1.4  0.1  3.   4.8]\n",
      " [ 1.1  0.1  3.   4.3]\n",
      " [ 1.2  0.2  4.   5.8]\n",
      " [ 1.5  0.4  4.4  5.7]\n",
      " [ 1.3  0.4  3.9  5.4]\n",
      " [ 1.4  0.3  3.5  5.1]\n",
      " [ 1.7  0.3  3.8  5.7]\n",
      " [ 1.5  0.3  3.8  5.1]\n",
      " [ 1.7  0.2  3.4  5.4]\n",
      " [ 1.5  0.4  3.7  5.1]\n",
      " [ 1.   0.2  3.6  4.6]\n",
      " [ 1.7  0.5  3.3  5.1]\n",
      " [ 1.9  0.2  3.4  4.8]\n",
      " [ 1.6  0.2  3.   5. ]\n",
      " [ 1.6  0.4  3.4  5. ]\n",
      " [ 1.5  0.2  3.5  5.2]\n",
      " [ 1.4  0.2  3.4  5.2]\n",
      " [ 1.6  0.2  3.2  4.7]\n",
      " [ 1.6  0.2  3.1  4.8]\n",
      " [ 1.5  0.4  3.4  5.4]\n",
      " [ 1.5  0.1  4.1  5.2]\n",
      " [ 1.4  0.2  4.2  5.5]\n",
      " [ 1.5  0.1  3.1  4.9]\n",
      " [ 1.2  0.2  3.2  5. ]\n",
      " [ 1.3  0.2  3.5  5.5]\n",
      " [ 1.5  0.1  3.1  4.9]\n",
      " [ 1.3  0.2  3.   4.4]\n",
      " [ 1.5  0.2  3.4  5.1]\n",
      " [ 1.3  0.3  3.5  5. ]\n",
      " [ 1.3  0.3  2.3  4.5]\n",
      " [ 1.3  0.2  3.2  4.4]\n",
      " [ 1.6  0.6  3.5  5. ]\n",
      " [ 1.9  0.4  3.8  5.1]\n",
      " [ 1.4  0.3  3.   4.8]\n",
      " [ 1.6  0.2  3.8  5.1]\n",
      " [ 1.4  0.2  3.2  4.6]\n",
      " [ 1.5  0.2  3.7  5.3]\n",
      " [ 1.4  0.2  3.3  5. ]\n",
      " [ 4.7  1.4  3.2  7. ]\n",
      " [ 4.5  1.5  3.2  6.4]\n",
      " [ 4.9  1.5  3.1  6.9]\n",
      " [ 4.   1.3  2.3  5.5]\n",
      " [ 4.6  1.5  2.8  6.5]\n",
      " [ 4.5  1.3  2.8  5.7]\n",
      " [ 4.7  1.6  3.3  6.3]\n",
      " [ 3.3  1.   2.4  4.9]\n",
      " [ 4.6  1.3  2.9  6.6]\n",
      " [ 3.9  1.4  2.7  5.2]\n",
      " [ 3.5  1.   2.   5. ]\n",
      " [ 4.2  1.5  3.   5.9]\n",
      " [ 4.   1.   2.2  6. ]\n",
      " [ 4.7  1.4  2.9  6.1]\n",
      " [ 3.6  1.3  2.9  5.6]\n",
      " [ 4.4  1.4  3.1  6.7]\n",
      " [ 4.5  1.5  3.   5.6]\n",
      " [ 4.1  1.   2.7  5.8]\n",
      " [ 4.5  1.5  2.2  6.2]\n",
      " [ 3.9  1.1  2.5  5.6]\n",
      " [ 4.8  1.8  3.2  5.9]\n",
      " [ 4.   1.3  2.8  6.1]\n",
      " [ 4.9  1.5  2.5  6.3]\n",
      " [ 4.7  1.2  2.8  6.1]\n",
      " [ 4.3  1.3  2.9  6.4]\n",
      " [ 4.4  1.4  3.   6.6]\n",
      " [ 4.8  1.4  2.8  6.8]\n",
      " [ 5.   1.7  3.   6.7]\n",
      " [ 4.5  1.5  2.9  6. ]\n",
      " [ 3.5  1.   2.6  5.7]\n",
      " [ 3.8  1.1  2.4  5.5]\n",
      " [ 3.7  1.   2.4  5.5]\n",
      " [ 3.9  1.2  2.7  5.8]\n",
      " [ 5.1  1.6  2.7  6. ]\n",
      " [ 4.5  1.5  3.   5.4]\n",
      " [ 4.5  1.6  3.4  6. ]\n",
      " [ 4.7  1.5  3.1  6.7]\n",
      " [ 4.4  1.3  2.3  6.3]\n",
      " [ 4.1  1.3  3.   5.6]\n",
      " [ 4.   1.3  2.5  5.5]\n",
      " [ 4.4  1.2  2.6  5.5]\n",
      " [ 4.6  1.4  3.   6.1]\n",
      " [ 4.   1.2  2.6  5.8]\n",
      " [ 3.3  1.   2.3  5. ]\n",
      " [ 4.2  1.3  2.7  5.6]\n",
      " [ 4.2  1.2  3.   5.7]\n",
      " [ 4.2  1.3  2.9  5.7]\n",
      " [ 4.3  1.3  2.9  6.2]\n",
      " [ 3.   1.1  2.5  5.1]\n",
      " [ 4.1  1.3  2.8  5.7]\n",
      " [ 6.   2.5  3.3  6.3]\n",
      " [ 5.1  1.9  2.7  5.8]\n",
      " [ 5.9  2.1  3.   7.1]\n",
      " [ 5.6  1.8  2.9  6.3]\n",
      " [ 5.8  2.2  3.   6.5]\n",
      " [ 6.6  2.1  3.   7.6]\n",
      " [ 4.5  1.7  2.5  4.9]\n",
      " [ 6.3  1.8  2.9  7.3]\n",
      " [ 5.8  1.8  2.5  6.7]\n",
      " [ 6.1  2.5  3.6  7.2]\n",
      " [ 5.1  2.   3.2  6.5]\n",
      " [ 5.3  1.9  2.7  6.4]\n",
      " [ 5.5  2.1  3.   6.8]\n",
      " [ 5.   2.   2.5  5.7]\n",
      " [ 5.1  2.4  2.8  5.8]\n",
      " [ 5.3  2.3  3.2  6.4]\n",
      " [ 5.5  1.8  3.   6.5]\n",
      " [ 6.7  2.2  3.8  7.7]\n",
      " [ 6.9  2.3  2.6  7.7]\n",
      " [ 5.   1.5  2.2  6. ]\n",
      " [ 5.7  2.3  3.2  6.9]\n",
      " [ 4.9  2.   2.8  5.6]\n",
      " [ 6.7  2.   2.8  7.7]\n",
      " [ 4.9  1.8  2.7  6.3]\n",
      " [ 5.7  2.1  3.3  6.7]\n",
      " [ 6.   1.8  3.2  7.2]\n",
      " [ 4.8  1.8  2.8  6.2]\n",
      " [ 4.9  1.8  3.   6.1]\n",
      " [ 5.6  2.1  2.8  6.4]\n",
      " [ 5.8  1.6  3.   7.2]\n",
      " [ 6.1  1.9  2.8  7.4]\n",
      " [ 6.4  2.   3.8  7.9]\n",
      " [ 5.6  2.2  2.8  6.4]\n",
      " [ 5.1  1.5  2.8  6.3]\n",
      " [ 5.6  1.4  2.6  6.1]\n",
      " [ 6.1  2.3  3.   7.7]\n",
      " [ 5.6  2.4  3.4  6.3]\n",
      " [ 5.5  1.8  3.1  6.4]\n",
      " [ 4.8  1.8  3.   6. ]\n",
      " [ 5.4  2.1  3.1  6.9]\n",
      " [ 5.6  2.4  3.1  6.7]\n",
      " [ 5.1  2.3  3.1  6.9]\n",
      " [ 5.1  1.9  2.7  5.8]\n",
      " [ 5.9  2.3  3.2  6.8]\n",
      " [ 5.7  2.5  3.3  6.7]\n",
      " [ 5.2  2.3  3.   6.7]\n",
      " [ 5.   1.9  2.5  6.3]\n",
      " [ 5.2  2.   3.   6.5]\n",
      " [ 5.4  2.3  3.4  6.2]\n",
      " [ 5.1  1.8  3.   5.9]]\n"
     ]
    }
   ],
   "source": [
    "print(selecttop(CF,.8, X))"
   ]
  },
  {
   "cell_type": "code",
   "execution_count": null,
   "metadata": {
    "collapsed": true
   },
   "outputs": [],
   "source": [
    ""
   ]
  }
 ],
 "metadata": {
  "kernelspec": {
   "display_name": "Python 3",
   "language": "python",
   "name": "python3"
  },
  "language_info": {
   "codemirror_mode": {
    "name": "ipython",
    "version": 3.0
   },
   "file_extension": ".py",
   "mimetype": "text/x-python",
   "name": "python",
   "nbconvert_exporter": "python",
   "pygments_lexer": "ipython3",
   "version": "3.5.2"
  }
 },
 "nbformat": 4,
 "nbformat_minor": 0
}